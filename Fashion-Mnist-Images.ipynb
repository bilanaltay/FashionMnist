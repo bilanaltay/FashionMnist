{
 "cells": [
  {
   "cell_type": "code",
   "execution_count": 5,
   "metadata": {},
   "outputs": [],
   "source": [
    "import torch\n",
    "from torch.utils.data import Dataset\n",
    "from torchvision import datasets\n",
    "from torchvision.transforms import ToTensor\n",
    "import numpy as np\n",
    "from PIL import Image\n",
    "import os"
   ]
  },
  {
   "cell_type": "code",
   "execution_count": 6,
   "metadata": {},
   "outputs": [],
   "source": [
    "train_fashionMnist = datasets.FashionMNIST(root = \"data\",train = True, transform= ToTensor(),download=True)\n",
    "test_fashionMnist = datasets.FashionMNIST(root = \"data\",train = False, transform= ToTensor(), download= True)"
   ]
  },
  {
   "cell_type": "code",
   "execution_count": 12,
   "metadata": {},
   "outputs": [
    {
     "data": {
      "text/plain": [
       "{0, 1, 2, 3, 4, 5, 6, 7, 8, 9}"
      ]
     },
     "execution_count": 12,
     "metadata": {},
     "output_type": "execute_result"
    }
   ],
   "source": [
    "labels = train_fashionMnist.targets\n",
    "unique_label = set(labels.numpy())\n"
   ]
  },
  {
   "cell_type": "code",
   "execution_count": 33,
   "metadata": {},
   "outputs": [],
   "source": [
    "labels_map = {\n",
    "    0: \"Tişört\",\n",
    "    1: \"Pantolon\",\n",
    "    2: \"Kazak\",\n",
    "    3: \"Elbise\",\n",
    "    4: \"Ceket\",\n",
    "    5: \"Sandalet\",\n",
    "    6: \"Gömlek\",\n",
    "    7: \"Ayakkabı\",\n",
    "    8: \"Çanta\",\n",
    "    9: \"Bot\"\n",
    "}"
   ]
  },
  {
   "cell_type": "code",
   "execution_count": 39,
   "metadata": {},
   "outputs": [],
   "source": [
    "os.makedirs(\"fashionImages\",exist_ok= True)\n",
    "\n",
    "for j in range(len(unique_label)):\n",
    "    \n",
    "    os.makedirs(f\"fashionImages/{labels_map[j]}\", exist_ok=True)\n",
    "\n",
    "for i in range(len(train_fashionMnist)):\n",
    "\n",
    "    label = train_fashionMnist[i][1]\n",
    "    image = train_fashionMnist[i][0].detach().numpy().reshape(28, 28)\n",
    "    image = (image * 255).astype(np.uint8)\n",
    "    image = Image.fromarray(image)\n",
    "    image.save(f\"fashionImages/{labels_map[label]}/resim{i}.png\")"
   ]
  }
 ],
 "metadata": {
  "kernelspec": {
   "display_name": "base",
   "language": "python",
   "name": "python3"
  },
  "language_info": {
   "codemirror_mode": {
    "name": "ipython",
    "version": 3
   },
   "file_extension": ".py",
   "mimetype": "text/x-python",
   "name": "python",
   "nbconvert_exporter": "python",
   "pygments_lexer": "ipython3",
   "version": "3.9.13"
  },
  "orig_nbformat": 4
 },
 "nbformat": 4,
 "nbformat_minor": 2
}
